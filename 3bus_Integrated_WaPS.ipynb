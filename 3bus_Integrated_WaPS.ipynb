{
  "cells": [
    {
      "cell_type": "markdown",
      "source": [
        "Optimization code of a 3-bus version of integrated water power system (WaPS) of the paper [Optimal Operation of Integrated Water–Power Systems Under Contingencies](https://ieeexplore.ieee.org/document/9760131/) using Pyomo\n",
        "\n",
        "\n",
        "*   Elmira Farahani\n",
        "*   Department of Energy Engineering\n",
        "*   Sharif University of Technology\n",
        "*   gh.farahani.elmira@gmail.com\n",
        "\n"
      ],
      "metadata": {
        "id": "4S3g8nG4Eikg"
      },
      "id": "4S3g8nG4Eikg"
    },
    {
      "cell_type": "markdown",
      "source": [
        "# Import libraries"
      ],
      "metadata": {
        "id": "obYTKaY0g1QL"
      },
      "id": "obYTKaY0g1QL"
    },
    {
      "cell_type": "code",
      "source": [
        "!pip install pyomo"
      ],
      "metadata": {
        "id": "_59FKuodOhz5",
        "colab": {
          "base_uri": "https://localhost:8080/"
        },
        "outputId": "be8ba156-0628-455a-da65-808432391298"
      },
      "id": "_59FKuodOhz5",
      "execution_count": 1,
      "outputs": [
        {
          "output_type": "stream",
          "name": "stdout",
          "text": [
            "Collecting pyomo\n",
            "  Downloading Pyomo-6.6.2-cp310-cp310-manylinux_2_17_x86_64.manylinux2014_x86_64.whl (12.7 MB)\n",
            "\u001b[2K     \u001b[90m━━━━━━━━━━━━━━━━━━━━━━━━━━━━━━━━━━━━━━━━\u001b[0m \u001b[32m12.7/12.7 MB\u001b[0m \u001b[31m42.5 MB/s\u001b[0m eta \u001b[36m0:00:00\u001b[0m\n",
            "\u001b[?25hCollecting ply (from pyomo)\n",
            "  Downloading ply-3.11-py2.py3-none-any.whl (49 kB)\n",
            "\u001b[2K     \u001b[90m━━━━━━━━━━━━━━━━━━━━━━━━━━━━━━━━━━━━━━━━\u001b[0m \u001b[32m49.6/49.6 kB\u001b[0m \u001b[31m7.0 MB/s\u001b[0m eta \u001b[36m0:00:00\u001b[0m\n",
            "\u001b[?25hInstalling collected packages: ply, pyomo\n",
            "Successfully installed ply-3.11 pyomo-6.6.2\n"
          ]
        }
      ]
    },
    {
      "cell_type": "code",
      "source": [
        "!apt-get install -y -qq coinor-cbc"
      ],
      "metadata": {
        "colab": {
          "base_uri": "https://localhost:8080/"
        },
        "id": "VrMk-KfsaFoJ",
        "outputId": "235c8e20-d00c-41dc-acd6-e818ebb8cdb4"
      },
      "id": "VrMk-KfsaFoJ",
      "execution_count": 2,
      "outputs": [
        {
          "output_type": "stream",
          "name": "stdout",
          "text": [
            "Selecting previously unselected package coinor-libcoinutils3v5:amd64.\n",
            "(Reading database ... 120875 files and directories currently installed.)\n",
            "Preparing to unpack .../0-coinor-libcoinutils3v5_2.11.4+repack1-2_amd64.deb ...\n",
            "Unpacking coinor-libcoinutils3v5:amd64 (2.11.4+repack1-2) ...\n",
            "Selecting previously unselected package coinor-libosi1v5:amd64.\n",
            "Preparing to unpack .../1-coinor-libosi1v5_0.108.6+repack1-2_amd64.deb ...\n",
            "Unpacking coinor-libosi1v5:amd64 (0.108.6+repack1-2) ...\n",
            "Selecting previously unselected package coinor-libclp1.\n",
            "Preparing to unpack .../2-coinor-libclp1_1.17.5+repack1-1_amd64.deb ...\n",
            "Unpacking coinor-libclp1 (1.17.5+repack1-1) ...\n",
            "Selecting previously unselected package coinor-libcgl1:amd64.\n",
            "Preparing to unpack .../3-coinor-libcgl1_0.60.3+repack1-3_amd64.deb ...\n",
            "Unpacking coinor-libcgl1:amd64 (0.60.3+repack1-3) ...\n",
            "Selecting previously unselected package coinor-libcbc3:amd64.\n",
            "Preparing to unpack .../4-coinor-libcbc3_2.10.7+ds1-1_amd64.deb ...\n",
            "Unpacking coinor-libcbc3:amd64 (2.10.7+ds1-1) ...\n",
            "Selecting previously unselected package coinor-cbc.\n",
            "Preparing to unpack .../5-coinor-cbc_2.10.7+ds1-1_amd64.deb ...\n",
            "Unpacking coinor-cbc (2.10.7+ds1-1) ...\n",
            "Setting up coinor-libcoinutils3v5:amd64 (2.11.4+repack1-2) ...\n",
            "Setting up coinor-libosi1v5:amd64 (0.108.6+repack1-2) ...\n",
            "Setting up coinor-libclp1 (1.17.5+repack1-1) ...\n",
            "Setting up coinor-libcgl1:amd64 (0.60.3+repack1-3) ...\n",
            "Setting up coinor-libcbc3:amd64 (2.10.7+ds1-1) ...\n",
            "Setting up coinor-cbc (2.10.7+ds1-1) ...\n",
            "Processing triggers for man-db (2.10.2-1) ...\n",
            "Processing triggers for libc-bin (2.35-0ubuntu3.1) ...\n",
            "/sbin/ldconfig.real: /usr/local/lib/libtbb.so.12 is not a symbolic link\n",
            "\n",
            "/sbin/ldconfig.real: /usr/local/lib/libtbbbind_2_5.so.3 is not a symbolic link\n",
            "\n",
            "/sbin/ldconfig.real: /usr/local/lib/libtbbbind_2_0.so.3 is not a symbolic link\n",
            "\n",
            "/sbin/ldconfig.real: /usr/local/lib/libtbbmalloc.so.2 is not a symbolic link\n",
            "\n",
            "/sbin/ldconfig.real: /usr/local/lib/libtbbbind.so.3 is not a symbolic link\n",
            "\n",
            "/sbin/ldconfig.real: /usr/local/lib/libtbbmalloc_proxy.so.2 is not a symbolic link\n",
            "\n"
          ]
        }
      ]
    },
    {
      "cell_type": "code",
      "execution_count": 3,
      "id": "e7b8fe9b-7aee-44f6-bb50-f4b8564b7c39",
      "metadata": {
        "tags": [],
        "id": "e7b8fe9b-7aee-44f6-bb50-f4b8564b7c39"
      },
      "outputs": [],
      "source": [
        "import pyomo.environ as pyo\n",
        "import matplotlib.pyplot as plt\n",
        "from pyomo.environ import *\n",
        "import numpy as np"
      ]
    },
    {
      "cell_type": "markdown",
      "source": [
        "# Define model"
      ],
      "metadata": {
        "id": "SQ0_gFOWg7D1"
      },
      "id": "SQ0_gFOWg7D1"
    },
    {
      "cell_type": "code",
      "execution_count": 4,
      "id": "b39b8f72-4cf7-4276-9e80-9d30be9e3f45",
      "metadata": {
        "tags": [],
        "id": "b39b8f72-4cf7-4276-9e80-9d30be9e3f45"
      },
      "outputs": [],
      "source": [
        "model = pyo.ConcreteModel()"
      ]
    },
    {
      "cell_type": "markdown",
      "source": [
        "# Define variables & parameters"
      ],
      "metadata": {
        "id": "CERlOY4ug-YK"
      },
      "id": "CERlOY4ug-YK"
    },
    {
      "cell_type": "code",
      "execution_count": 5,
      "id": "8cffb215-f933-4892-9ab2-6f2e6096140f",
      "metadata": {
        "tags": [],
        "id": "8cffb215-f933-4892-9ab2-6f2e6096140f"
      },
      "outputs": [],
      "source": [
        "time_idx = [i for i in range(24)]\n",
        "nodes_number = 7                                                                        # No. of nodes in simplified water system\n",
        "breakpoints_number = 5                                                                  # No. of linearization breakpoints\n",
        "bus_number = 3\n",
        "breakpoints = [i for i in range(breakpoints_number)]\n",
        "two_units_idx = [(i,j) for i in range(2) for j in range(24)]                             # index list of 2 unit system-pump\n",
        "pipelines = {0:(1,2),1:(2,3),2:(3,4),3:(5,6),4:(6,7)}                                   # pipeline 1 = connection between nodes 1 and 2\n",
        "translines = {0:(1,2),1:(1,3),2:(3,2)}                          # transmission lines...line 1 = connection of bus 1 to bus 2\n",
        "Q_pipe_idx = [(j,t) for j in pipelines.keys() for t in time_idx]\n",
        "Y_p_head_idx = [(i,j,t) for i in breakpoints for j in pipelines.keys() for t in time_idx]\n",
        "H_pipe_idx = [(j,n,t) for j in pipelines.keys() for n in range(nodes_number) for t in time_idx]\n",
        "H_pump_idx = [(i,n,t) for i in range(2) for n in range(nodes_number) for t in time_idx]\n",
        "X_pipe_idx = [(i,j,t) for i in range(breakpoints_number) for j in pipelines.keys() for t in time_idx]\n",
        "X_pump_idx = [(u,j,t) for u in range(breakpoints_number) for j in range(2) for t in time_idx]\n",
        "transline_idx = [(k,t) for k in translines.keys() for t in time_idx]\n",
        "Voltage_angle_idx = [(i,j) for i in range(bus_number) for j in time_idx]                # index list of 2 unit system-Voltage angle\n",
        "generating_units = [g for g in range(2)]\n",
        "q_p_index = [(u,i) for u in range(breakpoints_number) for i in range(2)]\n",
        "q_j_index = [(u,j) for u in range(breakpoints_number) for j in pipelines.keys()]\n",
        "Pipe_param = [0.15, 0.15, 0.3, 0.25, 0.15]\n",
        "H_min = 20            # min nodal pressure heads\n",
        "H_max = 1000          # max nodal pressure heads\n",
        "Q_max = 16200                  # max/min water flow rate to the network\n",
        "a = [[178,95,2],[178,42,2]]    # Performance parameters of pumps a\n",
        "b = [[295, 134],[295, 134]]    # Performance parameters of pumps b\n",
        "Water_demand_node4 = {1:143.856, 2:92.484 , 3:82.1988 , 4:92.484 , 5:113.0292 , 6:256.8852 , 7:534.3228 , 8:688.4532 , 9:719.28 , 10:698.724 , 11:647.352 , 12:575.424 , 13:503.496 , 14:462.3948 , 15:421.2972 , 16:431.568 , 17:462.3948 , 18:524.052 , 19:565.1532 , 20:565.1532 , 21:524.052 , 22:482.94 , 23:400.7412 , 24:277.4412 }\n",
        "Water_demand_node7 = {1:179.856, 2:128.484 , 3:118.1988 , 4:128.484 , 5:149.0292 , 6:292.8852 , 7:570.3228 , 8:724.4532 , 9:755.28 , 10:734.724 , 11:683.352 , 12:611.424 , 13:539.496 , 14:498.3948 , 15:457.2972 , 16:467.568 , 17:498.3948 , 18:560.052 , 19:601.1532 , 20:601.1532 , 21:560.052 , 22:518.94 , 23:436.7412 , 24:313.4412 }\n",
        "sys_elec_demand = {1:1775.835, 2:1669.815 , 3:1590.3 , 4:1563.795 , 5:1563.795 , 6:1590.3 , 7:1961.37 , 8:2279.43 , 9:2517.975 , 10:2544.48 , 11:2544.48 , 12:2517.975 , 13:2517.975 , 14:2517.975 , 15:2464.965 , 16:2464.965 , 17:2623.995 , 18:2650.5 , 19:2650.5 , 20:2544.48 , 21:2411.955 , 22:2199.915 , 23:1934.865 , 24:1669.815 }\n",
        "\n",
        "X_idx = [(p,t,u,m) for p in range(2) for t in time_idx for u in range(breakpoints_number) for m in range(breakpoints_number)]\n",
        "Q_p_max = 1000\n",
        "W_t_max = 410\n",
        "q = np.zeros((2,breakpoints_number))\n",
        "w = np.zeros((2,breakpoints_number))\n",
        "q[0:2] = np.arange(10,Q_p_max,Q_p_max//breakpoints_number)\n",
        "w[0:2] = np.arange(10,W_t_max,W_t_max//breakpoints_number)\n",
        "\n",
        "Q_pipe_max = 5000\n",
        "q_pipe = np.zeros((len(pipelines),breakpoints_number))\n",
        "q[0:len(pipelines)] = np.arange(10,Q_pipe_max,Q_pipe_max//breakpoints_number)\n",
        "\n",
        "# Variables\n",
        "model.P_shed = pyo.Var(two_units_idx, domain = pyo.PositiveReals)                         # The shedding amount of load-for reducing demand\n",
        "model.P_gen = pyo.Var(two_units_idx, domain = pyo.PositiveReals)                          # Expected power output of generating units\n",
        "model.P_wat = pyo.Var(time_idx, domain = pyo.PositiveReals)                               # Water electricity consumption in bus b-we have only one water bus\n",
        "model.P_pump = pyo.Var(two_units_idx, domain = pyo.PositiveReals)                       # Power consumption for pump-we have  2 pumps\n",
        "model.P_total_demand = pyo.Var(time_idx, domain = pyo.PositiveReals)                    # Total power-water demand\n",
        "model.P_trans_k = pyo.Var(transline_idx, domain = pyo.PositiveReals)                    # Power flow through transmission lines\n",
        "model.Q_tot = pyo.Var(time_idx, domain = pyo.Reals)                                     # Water flow rate\n",
        "model.R_flow = pyo.Var(time_idx, domain = pyo.PositiveReals)                            # Reservoir's water inflow rate-We have only one reservoir in simplified model\n",
        "model.Q_pipe = pyo.Var(Q_pipe_idx, domain = pyo.Reals)                                  # Water flow rate through pipes\n",
        "model.Q_pump = pyo.Var(two_units_idx, domain = pyo.PositiveReals)                       # Water flow rate through pumps\n",
        "model.H_tot = pyo.Var(time_idx, domain = pyo.PositiveReals)                             # Pressure heads\n",
        "model.H_pipe = pyo.Var(H_pipe_idx, domain = pyo.PositiveReals)                          # Pressure heads associated with pipes\n",
        "model.H_pump = pyo.Var(H_pump_idx, domain = pyo.PositiveReals)                          # Pressure heads associated with pumps\n",
        "model.H_reservoir = pyo.Var(time_idx, domain = pyo.PositiveReals)                       # Pressure heads associated with reservoir\n",
        "model.Delta_E = pyo.Var(time_idx, domain = pyo.Reals)                                   # Tanks' inflow/outflow rate difference\n",
        "model.T_in = pyo.Var(time_idx, domain = pyo.PositiveReals)                              # Water inflow to tanks\n",
        "model.T_out = pyo.Var(time_idx, domain = pyo.PositiveReals)                             # Water outflow to tanks\n",
        "model.Vstore_tanks = pyo.Var(time_idx, domain = pyo.PositiveReals)                      # Volume of stored water in tanks\n",
        "model.W_speed = pyo.Var(two_units_idx, domain = pyo.PositiveReals)                           # Pump's speed\n",
        "model.X_pipe_bp = pyo.Var(X_pipe_idx, domain = pyo.Reals)                               # Continuous decision variable for pressure head associated with pipes\n",
        "model.X = pyo.Var(X_idx, domain = pyo.PositiveReals)                              # Continuous decision variable for pressure head associated with pumps\n",
        "model.Voltage_angle = pyo.Var(Voltage_angle_idx, domain = pyo.Reals)                    # Voltage angle\n",
        "model.Delta_H = pyo.Var(two_units_idx, domain = pyo.PositiveReals)\n",
        "\n",
        "# Binary Variables\n",
        "model.phi_g = pyo.Var(two_units_idx, domain = pyo.Binary)                              # Connection status of generator\n",
        "model.Nou_k = pyo.Var(transline_idx, domain = pyo.Binary)                              # Connection status of power line\n",
        "model.Y_p_head = pyo.Var(Y_p_head_idx, domain = pyo.Binary)                            # pressure head breakpoint associated with pipes\n",
        "model.H_upper = pyo.Var(X_idx, domain = pyo.Binary)\n",
        "model.H_lower = pyo.Var(X_idx, domain = pyo.Binary)\n",
        "model.tua = pyo.Var(time_idx, domain = pyo.Binary)                                     # Connection status of pump stations\n",
        "\n",
        "\n",
        "# Parameters\n",
        "c_sh_init = [1 for _ in range(24)]\n",
        "model.tot_elec_demand = pyo.Param(time_idx, within=pyo.Any ,initialize = list(sys_elec_demand.values()))                            # Total electricity demand\n",
        "model.max_elec_demand = pyo.Param(initialize = 2750)                                      # Maximum elec demand\n",
        "model.min_elec_demand = pyo.Param(initialize = 1550)                                      # Minimum elec demand\n",
        "model.transline_reactance = pyo.Param(list(translines.keys()), initialize = [0.0146, 0.2253, 0.1356])  # Reactance of transmission lines\n",
        "model.max_P_flow = pyo.Param(list(translines.keys()), initialize = [175, 175, 350], within=pyo.Any )                     # Maximum power flow limit of lines\n",
        "model.max_cap_g = pyo.Param(generating_units, initialize = [152, 152])                                          # Maximum capacity of generating units\n",
        "model.min_cap_g = pyo.Param(generating_units, initialize = [30.4, 30.4])                                          # Minimum capacity of generating units\n",
        "model.water_d = pyo.Param(time_idx, within=pyo.Any, initialize = [i+j for i , j  in zip(Water_demand_node4.values(),Water_demand_node7.values())])                                                   # Water demand vector\n",
        "model.h_Reservoir = pyo.Param(initialize = 0)                                          # Reservoirs' geographical height\n",
        "model.Vmin_tank = pyo.Param(initialize = 0, within=pyo.Any)                                            # Tanks' maximum volume\n",
        "model.Vmax_tank = pyo.Param(initialize = 5000, within=pyo.Any)                                            # Tanks' minimum volume\n",
        "model.min_diff_tank = pyo.Param(initialize = 0)                                        # Minimum charging/discharging difference for tanks\n",
        "model.max_diff_tank = pyo.Param(initialize = 100)                                        # Maximum charging/discharging difference for tanks\n",
        "model.P_pump_max = pyo.Param((p for p in range(2)),initialize = [5000,4000])\n",
        "model.P_pump_min = pyo.Param((p for p in range(2)),initialize = [1000,1000])                       # max/min power consumption for pumps\n",
        "model.q_pump_bp = pyo.Param(q_p_index,initialize = 3240)                                  # water flow rate of breakpoint for pump\n",
        "# model.q_pipe_bp = pyo.Param(q_j_index,initialize = 3240)                                  # water flow rate of breakpoint for pipe\n",
        "model.c_sh = pyo.Param(time_idx, initialize = c_sh_init)                               # The price of shedding load\n",
        "c_g_init = [0.5 for _ in range(24)]\n",
        "model.c_g = pyo.Param(time_idx, initialize = c_g_init)                                 # Linear cost coefficients of generating units\n",
        "model.c_r = pyo.Param(time_idx, initialize = c_g_init)                                 # Linear cost coefficients of generating units\n"
      ]
    },
    {
      "cell_type": "markdown",
      "source": [
        "# Define objective function and constrains"
      ],
      "metadata": {
        "id": "DKGL0nswhHsg"
      },
      "id": "DKGL0nswhHsg"
    },
    {
      "cell_type": "code",
      "execution_count": 6,
      "id": "40fd5e94",
      "metadata": {
        "id": "40fd5e94"
      },
      "outputs": [],
      "source": [
        "# Objective Function\n",
        "def obj_rule(model):\n",
        "  return sum(model.c_sh[t]*model.P_shed[sh,t] + model.c_g[t]*model.P_gen[g,t] + model.c_r[t]*model.R_flow[t] for sh in range(2)for g in range(2) for t in time_idx)\n",
        "  # return sum(sum(sum(model.c_sh[t]*model.P_shed[sh,t] + model.c_g[t]*model.P_gen[g,t] + model.c_r[t]*model.R_flow[t] for sh in range(2))for g in range(2)) for t in time_idx)\n",
        "model.OBJ = pyo.Objective(rule=obj_rule, sense=pyo.minimize)\n",
        "\n",
        "\n",
        "######################## WaPS Constrainst ##############################\n",
        "\n",
        "model.time_set = pyo.Set( initialize=time_idx )\n",
        "model.translines_set = pyo.Set( initialize=list(translines.keys()) )\n",
        "\n",
        "def pump_consumption(model, t):\n",
        "  return sum(model.P_pump[p,t] for p in range(2)) - model.P_wat[t] == 0\n",
        "model.con1 = pyo.Constraint(model.time_set , rule = pump_consumption)\n",
        "\n",
        "def integration_water_power(model, t):\n",
        "  return model.P_total_demand[t] - model.tot_elec_demand[t] - model.P_wat[t] == 0\n",
        "model.con2 = pyo.Constraint(model.time_set, rule = integration_water_power)\n",
        "\n",
        "def integration_boundary1(model, t):\n",
        "  return model.tot_elec_demand[t] + model.P_wat[t] - model.min_elec_demand[t] >= 0\n",
        "model.con3 = pyo.Constraint(model.time_set ,rule = integration_water_power)\n",
        "\n",
        "def integration_boundary2(model, t):\n",
        "  return model.max_elec_demand[t] - model.tot_elec_demand[t] - model.P_wat[t] >= 0\n",
        "model.con4 = pyo.Constraint(model.time_set ,rule = integration_water_power)\n",
        "\n",
        "###################### Transmission Line Constraints #####################\n",
        "def transline_k1(model, t):\n",
        "  return model.P_trans_k[0,t] == (model.Voltage_angle[0,t]-model.Voltage_angle[1,t])/model.transline_reactance[0]\n",
        "model.con5 = pyo.Constraint(model.time_set ,rule = transline_k1)\n",
        "\n",
        "def transline_k2(model, t):\n",
        "  return model.P_trans_k[1,t] == (model.Voltage_angle[0,t]-model.Voltage_angle[2,t])/model.transline_reactance[1]\n",
        "model.con6 = pyo.Constraint(model.time_set ,rule = transline_k2)\n",
        "\n",
        "def transline_k3(model, t):\n",
        "  return model.P_trans_k[2,t] == (model.Voltage_angle[1,t]-model.Voltage_angle[2,t])/model.transline_reactance[2]\n",
        "model.con7 = pyo.Constraint(model.time_set ,rule = transline_k3)\n",
        "\n",
        "def transline_bound1(model,k,t):\n",
        "  return model.P_trans_k[k,t] >= -model.max_P_flow[k] * model.Nou_k[k,t]\n",
        "model.con8 = pyo.Constraint(model.translines_set*model.time_set ,rule = transline_bound1)\n",
        "\n",
        "def transline_bound2(model,k,t):\n",
        "  return model.P_trans_k[k,t] <= model.max_P_flow[k] * model.Nou_k[k,t]\n",
        "model.con9 = pyo.Constraint(model.translines_set*model.time_set ,rule = transline_bound2)\n",
        "\n",
        "############################## Generation Constraints ##########################\n",
        "def gen_bound1(model,g,t):\n",
        "  return model.P_gen[g,t] - model.max_cap_g[g]*model.phi_g[g,t] <= 0\n",
        "model.con10 = pyo.Constraint(generating_units*model.time_set ,rule = gen_bound1)\n",
        "\n",
        "def gen_bound2(model,g,t):\n",
        "  return model.P_gen[g,t] - model.min_cap_g[g]*model.phi_g[g,t] >= 0\n",
        "model.con11 = pyo.Constraint(generating_units*model.time_set ,rule = gen_bound2)\n",
        "\n",
        "############################# Power Balance Constraints ########################\n",
        "def power_balance(model,t):\n",
        "  return sum(model.P_gen[g,t] for g in generating_units) + sum(model.P_shed[i,t] for i in range(2)) - sum(model.P_trans_k[k,t] for k in list(translines.keys())) - model.P_total_demand[t] == 0\n",
        "model.con12 = pyo.Constraint(model.time_set ,rule = power_balance)\n",
        "\n",
        "def outage_bound1(model,i,t):\n",
        "  return model.P_shed[i,t] >= 0\n",
        "model.con13 = pyo.Constraint(list(range(2))*model.time_set ,rule = outage_bound1)\n",
        "\n",
        "def outage_bound2(model,i,t):\n",
        "  return model.P_shed[i,t] <= model.P_total_demand[t]\n",
        "model.con14 = pyo.Constraint(list(range(2))*model.time_set ,rule = outage_bound2)\n",
        "\n",
        "############################# Water Flow Constraints ########################\n",
        "\n",
        "def water_balance(model,t):\n",
        "  return model.R_flow[t] - model.water_d[t] - model.Q_tot[t] - model.Delta_E[t] == 0\n",
        "model.con15 = pyo.Constraint(model.time_set ,rule = water_balance)\n",
        "\n",
        "def Q_bound1(model,t):\n",
        "  return model.Q_tot[t] + Q_max >= 0\n",
        "model.con16 = pyo.Constraint(model.time_set ,rule = Q_bound1)\n",
        "\n",
        "def Q_bound2(model,t):\n",
        "  return model.Q_tot[t] - Q_max <= 0\n",
        "model.con17 = pyo.Constraint(model.time_set ,rule = Q_bound2)\n",
        "\n",
        "def Q_pump_bound(model,p,t):\n",
        "  return model.Q_pump[p,t] >= 0\n",
        "model.con18 = pyo.Constraint(list(range(2))*model.time_set ,rule = Q_pump_bound)\n",
        "\n",
        "def Resv_1(model,t):\n",
        "  return model.H_reservoir[t] - model.h_Reservoir == 0\n",
        "model.con19 = pyo.Constraint(model.time_set ,rule = Resv_1)\n",
        "\n",
        "def Head_bound1(model,t):\n",
        "  return model.H_tot[t] - H_min >= 0\n",
        "model.con20 = pyo.Constraint(model.time_set ,rule = Head_bound1)\n",
        "\n",
        "def Head_bound2(model,t):\n",
        "  return model.H_tot[t] - H_max <= 0\n",
        "model.con21 = pyo.Constraint(model.time_set ,rule = Head_bound2)\n",
        "\n",
        "def Tank_1(model,t):\n",
        "  return model.Vstore_tanks[t+1] - model.Vstore_tanks[t] - model.Delta_E[t] == 0\n",
        "model.con22 = pyo.Constraint(list(range(23)) ,rule = Tank_1)\n",
        "\n",
        "def Tank_flow(model,t):\n",
        "  return model.Delta_E[t] - model.T_in[t] + model.T_out[t] == 0\n",
        "model.con23 = pyo.Constraint(model.time_set  ,rule = Tank_flow)\n",
        "\n",
        "def Tank_flow_diff_1(model,t):\n",
        "  return model.Delta_E[t] - model.min_diff_tank >= 0\n",
        "model.con24 = pyo.Constraint(model.time_set  ,rule = Tank_flow_diff_1)\n",
        "\n",
        "def Tank_flow_diff_2(model,t):\n",
        "  return model.Delta_E[t] - model.max_diff_tank <= 0\n",
        "model.con25 = pyo.Constraint(model.time_set  ,rule = Tank_flow_diff_2)\n",
        "\n",
        "def Tank_2(model,t):\n",
        "  return model.Vstore_tanks[t] - model.H_tot[t]*(3.14*(20**2)) == 0\n",
        "model.con26 = pyo.Constraint(model.time_set  ,rule = Tank_2)\n",
        "\n",
        "def Tank_bound_1(model,t):\n",
        "  return model.Vstore_tanks[t] - model.Vmin_tank >= 0\n",
        "model.con27 = pyo.Constraint(model.time_set  ,rule = Tank_bound_1)\n",
        "\n",
        "def Tank_bound_2(model,t):\n",
        "  return model.Vstore_tanks[t] - model.Vmax_tank <= 0\n",
        "model.con28 = pyo.Constraint(model.time_set  ,rule = Tank_bound_2)\n",
        "\n",
        "def Pump_bound_1(model,p,t):\n",
        "  return model.P_pump[p,t] - model.P_pump_max[p] <= 0\n",
        "model.con29 = pyo.Constraint(list(range(2))*model.time_set  ,rule = Pump_bound_1)\n",
        "\n",
        "def Pump_bound_2(model,p,t):\n",
        "  return model.P_pump[p,t] - model.P_pump_min[p] >= 0\n",
        "model.con30 = pyo.Constraint(list(range(2))*model.time_set  ,rule = Pump_bound_2)\n"
      ]
    },
    {
      "cell_type": "markdown",
      "source": [
        "# Linearization"
      ],
      "metadata": {
        "id": "4SAWMZgq2rK8"
      },
      "id": "4SAWMZgq2rK8"
    },
    {
      "cell_type": "markdown",
      "source": [
        "## Constraint (13): Piece-wise method"
      ],
      "metadata": {
        "id": "FGzRTk4yCDzz"
      },
      "id": "FGzRTk4yCDzz"
    },
    {
      "cell_type": "code",
      "source": [
        "def pipe_24(model,j,t):\n",
        "  return sum(model.Y_p_head[i,j,t] for i in range(breakpoints_number-1)) == 1\n",
        "model.con13_1 = pyo.Constraint(list(pipelines.keys())*model.time_set  ,rule = pipe_24)\n",
        "\n",
        "model.set_brp = pyo.Set(initialize = [(i , j, t) for i in  list(range(1,breakpoints_number)) for j in pipelines.keys() for t in time_idx])\n",
        "\n",
        "def pipe_25(model,i,j,t):\n",
        "  return model.X_pipe_bp[i,j,t] <= model.Y_p_head[i,j,t] + model.Y_p_head[i-1,j,t]\n",
        "model.con13_2 = pyo.Constraint(model.set_brp, rule = pipe_25)\n",
        "\n",
        "def pipe_26(model,j,t):\n",
        "  return sum(model.X_pipe_bp[i,j,t] for i in range(breakpoints_number)) == 1\n",
        "model.con13_3 = pyo.Constraint(list(pipelines.keys())*model.time_set, rule = pipe_26)\n",
        "\n",
        "def pipe_27(model,j,t):\n",
        "  return model.X_pipe_bp[breakpoints_number-1,j,t] <= model.Y_p_head[breakpoints_number-2,j,t]\n",
        "model.con13_4 = pyo.Constraint(list(pipelines.keys())*model.time_set, rule = pipe_27)\n",
        "\n",
        "def pipe_28(model,j,t):\n",
        "  return model.X_pipe_bp[1,j,t] <= model.Y_p_head[1,j,t]\n",
        "model.con13_5 = pyo.Constraint(list(pipelines.keys())*model.time_set, rule = pipe_28)\n",
        "\n",
        "def pipe_29(model,j,t):\n",
        "  return model.Q_pipe[j,t] == sum(model.X_pipe_bp[i,j,t]*q_pipe[j,i] for i in range(breakpoints_number))\n",
        "model.con13_6 = pyo.Constraint(list(pipelines.keys())*model.time_set, rule = pipe_29)\n",
        "\n",
        "model.set_jnt = pyo.Set(initialize = [(j,n,t) for j in list(pipelines.keys()) for n in range(nodes_number-1) for t in time_idx])\n",
        "def pipe_30(model,j,n,t):\n",
        "  return model.H_pipe[j,n,t] - model.H_pipe[j,n+1,t]  == sum(model.X_pipe_bp[i,j,t]*q_pipe[j,i] for i in range(breakpoints_number))\n",
        "model.con13_7 = pyo.Constraint(model.set_jnt, rule = pipe_30)"
      ],
      "metadata": {
        "id": "e3XzdBfBCDOI"
      },
      "id": "e3XzdBfBCDOI",
      "execution_count": 7,
      "outputs": []
    },
    {
      "cell_type": "markdown",
      "source": [
        "## Linearization of constraints (21) & (22) using Triangle method: [paper](https://www.sciencedirect.com/science/article/pii/S0167637709001072)\n",
        "\n",
        "\n",
        "\n",
        "\n"
      ],
      "metadata": {
        "id": "mexC_ERX-lpk"
      },
      "id": "mexC_ERX-lpk"
    },
    {
      "cell_type": "code",
      "source": [
        "def X_pump_31(model,p,t):\n",
        "  return sum(model.X[p,t,u,m] for m in range(breakpoints_number) for u in range(breakpoints_number)) == 1\n",
        "model.con31 = pyo.Constraint(list(range(2))*model.time_set  ,rule = X_pump_31)\n",
        "\n",
        "def Xq_pump_32(model,p,t):\n",
        "  return model.Q_pump[p,t] == sum(model.X[p,t,u,m]*q[p,u] for m in range(breakpoints_number) for u in range(breakpoints_number))\n",
        "model.con32 = pyo.Constraint(list(range(2))*model.time_set  ,rule = Xq_pump_32)\n",
        "\n",
        "def Xw_pump_33(model,p,t):\n",
        "  return model.W_speed[p,t] == sum(model.X[p,t,u,m]*w[p,m] for m in range(breakpoints_number) for u in range(breakpoints_number))\n",
        "model.con33 = pyo.Constraint(list(range(2))*model.time_set  ,rule = Xw_pump_33)\n",
        "\n",
        "def Delta_H_34(model,p,t):\n",
        "  return model.Delta_H[p,t] == sum(w[p,m]*(a[p][0]-a[p][1]*((q[p,u]/w[p,m])**a[p][2]))*model.X[p,t,u,m] for m in range(breakpoints_number) for u in range(breakpoints_number))\n",
        "model.con34 = pyo.Constraint(list(range(2))*model.time_set  ,rule = Delta_H_34)\n",
        "\n",
        "def W_pump_35(model,p,t):\n",
        "  return model.P_pump[p,t] == sum((w[p,m]**3)*(b[p][0]-b[p][1]*(q[p,u]/w[p,m]))*model.X[p,t,u,m] for m in range(breakpoints_number) for u in range(breakpoints_number))\n",
        "model.con35 = pyo.Constraint(list(range(2))*model.time_set  ,rule = W_pump_35)\n",
        "\n",
        "def H_binary_36(model,p,t):\n",
        "  return sum(model.H_upper[p,t,u,m]+model.H_upper[p,t,u,m] for m in range(breakpoints_number) for u in range(breakpoints_number)) == 1\n",
        "model.con36 = pyo.Constraint(list(range(2))*model.time_set  ,rule = H_binary_36)\n",
        "\n",
        "def H_binary_37(model,p,t,u,m):\n",
        "  return model.X[p,t,u,m]<= model.H_upper[p,t,u,m-1] + model.H_upper[p,t,u+1,m] + model.H_upper[p,t,u,m] + model.H_lower[p,t,u-1,m] + model.H_lower[p,t,u,m+1] + model.H_lower[p,t,u,m]\n",
        "model.con37 = pyo.Constraint(list(range(2))*model.time_set*list(range(1,breakpoints_number-1))*list(range(1,breakpoints_number-1))   ,rule = H_binary_37)"
      ],
      "metadata": {
        "id": "ZrFM9kIiirk1"
      },
      "id": "ZrFM9kIiirk1",
      "execution_count": 8,
      "outputs": []
    },
    {
      "cell_type": "markdown",
      "source": [
        "# Solve"
      ],
      "metadata": {
        "id": "pvpnbRB9ifow"
      },
      "id": "pvpnbRB9ifow"
    },
    {
      "cell_type": "code",
      "execution_count": 9,
      "id": "403ce7b0-93f5-4476-904c-7e6099e75ec9",
      "metadata": {
        "id": "403ce7b0-93f5-4476-904c-7e6099e75ec9",
        "colab": {
          "base_uri": "https://localhost:8080/"
        },
        "outputId": "ab8e8644-054e-4fc0-8219-fdcdcccaf665"
      },
      "outputs": [
        {
          "output_type": "stream",
          "name": "stderr",
          "text": [
            "WARNING:pyomo.core:Loading a SolverResults object with a warning status into model.name=\"unknown\";\n",
            "  - termination condition: infeasible\n",
            "  - message from solver: <undefined>\n"
          ]
        },
        {
          "output_type": "stream",
          "name": "stdout",
          "text": [
            "\n",
            "Problem: \n",
            "- Name: unknown\n",
            "  Lower bound: None\n",
            "  Upper bound: inf\n",
            "  Number of objectives: 1\n",
            "  Number of constraints: 3503\n",
            "  Number of variables: 6072\n",
            "  Number of binary variables: 2640\n",
            "  Number of integer variables: 2640\n",
            "  Number of nonzeros: 120\n",
            "  Sense: minimize\n",
            "Solver: \n",
            "- Status: warning\n",
            "  User time: -1.0\n",
            "  System time: 0.1\n",
            "  Wallclock time: 0.15\n",
            "  Termination condition: infeasible\n",
            "  Termination message: Model was proven to be infeasible.\n",
            "  Statistics: \n",
            "    Branch and bound: \n",
            "      Number of bounded subproblems: None\n",
            "      Number of created subproblems: None\n",
            "  Error rc: 0\n",
            "  Time: 0.18799066543579102\n",
            "\n"
          ]
        }
      ],
      "source": [
        "import time\n",
        "opt = pyo.SolverFactory(\"cbc\")\n",
        "time_solve = time.time()\n",
        "results = opt.solve(model)\n",
        "time_end = time.time()\n",
        "\n",
        "print(results)"
      ]
    },
    {
      "cell_type": "code",
      "source": [],
      "metadata": {
        "id": "BB6ELcztZ7nh"
      },
      "id": "BB6ELcztZ7nh",
      "execution_count": null,
      "outputs": []
    }
  ],
  "metadata": {
    "kernelspec": {
      "display_name": "Python 3 (ipykernel)",
      "language": "python",
      "name": "python3"
    },
    "language_info": {
      "codemirror_mode": {
        "name": "ipython",
        "version": 3
      },
      "file_extension": ".py",
      "mimetype": "text/x-python",
      "name": "python",
      "nbconvert_exporter": "python",
      "pygments_lexer": "ipython3",
      "version": "3.11.5"
    },
    "colab": {
      "provenance": []
    }
  },
  "nbformat": 4,
  "nbformat_minor": 5
}